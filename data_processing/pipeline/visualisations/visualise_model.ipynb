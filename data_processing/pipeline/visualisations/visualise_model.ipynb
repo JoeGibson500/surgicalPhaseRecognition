{
 "cells": [
  {
   "cell_type": "code",
   "execution_count": null,
   "metadata": {},
   "outputs": [
    {
     "name": "stdout",
     "output_type": "stream",
     "text": [
      "After Block 1: torch.Size([12, 64, 16])\n",
      "After Block 2: torch.Size([12, 128, 16])\n",
      "After Block 3: torch.Size([12, 256, 16])\n"
     ]
    },
    {
     "name": "stderr",
     "output_type": "stream",
     "text": [
      "/uolstore/home/users/sc22jg/.local/lib/python3.9/site-packages/torch/nn/utils/weight_norm.py:143: FutureWarning: `torch.nn.utils.weight_norm` is deprecated in favor of `torch.nn.utils.parametrizations.weight_norm`.\n",
      "  WeightNorm.apply(module, name, dim)\n"
     ]
    }
   ],
   "source": [
    "import torch \n",
    "from models.tcn.tcn import TCN, TCNBlock"
   ]
  },
  {
   "cell_type": "code",
   "execution_count": 3,
   "metadata": {},
   "outputs": [
    {
     "name": "stdout",
     "output_type": "stream",
     "text": [
      "After Block 1: torch.Size([12, 64, 16])\n",
      "After Block 2: torch.Size([12, 128, 16])\n",
      "After Block 3: torch.Size([12, 256, 16])\n"
     ]
    }
   ],
   "source": [
    "# Visualise blocks \n",
    "\n",
    "x = torch.randn(12, 2048, 16)\n",
    "\n",
    "# Define your stack\n",
    "block1 = TCNBlock(2048, 64, kernel_size=3, dilation=1, dropout=0.2)\n",
    "block2 = TCNBlock(64, 128, kernel_size=3, dilation=2, dropout=0.2)\n",
    "block3 = TCNBlock(128, 256, kernel_size=3, dilation=4, dropout=0.2)\n",
    "\n",
    "# Forward through each block\n",
    "x = block1(x)\n",
    "print(\"After Block 1:\", x.shape)\n",
    "\n",
    "x = block2(x)\n",
    "print(\"After Block 2:\", x.shape)\n",
    "\n",
    "x = block3(x)\n",
    "print(\"After Block 3:\", x.shape)"
   ]
  },
  {
   "cell_type": "code",
   "execution_count": 4,
   "metadata": {},
   "outputs": [
    {
     "name": "stdout",
     "output_type": "stream",
     "text": [
      "Input: torch.Size([12, 16, 2048])\n",
      "After transpose for Conv1d: torch.Size([12, 2048, 16])\n",
      "After Block 1: torch.Size([12, 64, 16])\n",
      "After Block 2: torch.Size([12, 128, 16])\n",
      "After Block 3: torch.Size([12, 256, 16])\n",
      "After transpose back: torch.Size([12, 16, 256])\n",
      "Final output shape: torch.Size([12, 16, 256])\n"
     ]
    },
    {
     "name": "stderr",
     "output_type": "stream",
     "text": [
      "/uolstore/home/users/sc22jg/.local/lib/python3.9/site-packages/torch/nn/utils/weight_norm.py:143: FutureWarning: `torch.nn.utils.weight_norm` is deprecated in favor of `torch.nn.utils.parametrizations.weight_norm`.\n",
      "  WeightNorm.apply(module, name, dim)\n"
     ]
    }
   ],
   "source": [
    "import torch\n",
    "from models.tcn.tcn import TCNBlock  \n",
    "\n",
    "class MiniTCN(torch.nn.Module):\n",
    "    def __init__(self):\n",
    "        super().__init__()\n",
    "        self.block1 = TCNBlock(2048, 64, kernel_size=3, dilation=1, dropout=0.2)\n",
    "        self.block2 = TCNBlock(64, 128, kernel_size=3, dilation=2, dropout=0.2)\n",
    "        self.block3 = TCNBlock(128, 256, kernel_size=3, dilation=4, dropout=0.2)\n",
    "\n",
    "    def forward(self, x):  # x: (B, T, C)\n",
    "        print(\"Input:\", x.shape)\n",
    "        x = x.transpose(1, 2)   # ➜ (B, C, T)\n",
    "        print(\"After transpose for Conv1d:\", x.shape)\n",
    "\n",
    "        x = self.block1(x)\n",
    "        print(\"After Block 1:\", x.shape)\n",
    "\n",
    "        x = self.block2(x)\n",
    "        print(\"After Block 2:\", x.shape)\n",
    "\n",
    "        x = self.block3(x)\n",
    "        print(\"After Block 3:\", x.shape)\n",
    "\n",
    "        x = x.transpose(1, 2)   # Back to (B, T, C)\n",
    "        print(\"After transpose back:\", x.shape)\n",
    "\n",
    "        return x\n",
    "\n",
    "\n",
    "# === Test ===\n",
    "x = torch.randn(12, 16, 2048)  # (B, T, C)\n",
    "model = MiniTCN()\n",
    "output = model(x)\n",
    "\n",
    "print(\"Final output shape:\", output.shape)\n"
   ]
  }
 ],
 "metadata": {
  "kernelspec": {
   "display_name": "usr",
   "language": "python",
   "name": "python3"
  },
  "language_info": {
   "codemirror_mode": {
    "name": "ipython",
    "version": 3
   },
   "file_extension": ".py",
   "mimetype": "text/x-python",
   "name": "python",
   "nbconvert_exporter": "python",
   "pygments_lexer": "ipython3",
   "version": "3.9.21"
  }
 },
 "nbformat": 4,
 "nbformat_minor": 2
}

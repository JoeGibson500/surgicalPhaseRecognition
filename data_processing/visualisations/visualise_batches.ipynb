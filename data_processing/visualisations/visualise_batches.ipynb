{
 "cells": [
  {
   "cell_type": "code",
   "execution_count": null,
   "metadata": {
    "vscode": {
     "languageId": "plaintext"
    }
   },
   "outputs": [],
   "source": [
    "\n",
    "\n",
    "\n",
    "\n",
    "# # Verify Training Batches\n",
    "# print(\"\\n🔍 Checking Training Batches...\\n\")\n",
    "# for batch_idx, (features, labels) in enumerate(train_loader):\n",
    "#     batch_video_ids = [\n",
    "#         os.path.basename(os.path.dirname(train_dataset.sequence_label_pairs[i][0])) \n",
    "#         for i in range(batch_idx * train_loader.batch_size, \n",
    "#                        (batch_idx + 1) * train_loader.batch_size) \n",
    "#         if i < len(train_dataset.sequence_label_pairs)\n",
    "#     ]\n",
    "#     print(f\"Train Batch {batch_idx}: Video IDs = {batch_video_ids}\")\n",
    "\n",
    "\n",
    "# # Verify Validation Batches\n",
    "# print(\"\\n🔍 Checking Validation Batches...\\n\")\n",
    "# for batch_idx, (features, labels) in enumerate(val_loader):\n",
    "#     batch_video_ids = [\n",
    "#         os.path.basename(os.path.dirname(val_dataset.sequence_label_pairs[i][0])) \n",
    "#         for i in range(batch_idx * val_loader.batch_size, \n",
    "#                        (batch_idx + 1) * val_loader.batch_size) \n",
    "#         if i < len(val_dataset.sequence_label_pairs)\n",
    "#     ]\n",
    "#     print(f\"Val Batch {batch_idx}: Video IDs = {batch_video_ids}\")\n",
    "\n",
    "\n",
    "# # Summary Statistics\n",
    "# print(f\"\\nTotal Training Sequences: {len(train_dataset)}\")\n",
    "# print(f\"Total Validation Sequences: {len(val_dataset)}\")\n"
   ]
  }
 ],
 "metadata": {
  "language_info": {
   "name": "python"
  }
 },
 "nbformat": 4,
 "nbformat_minor": 2
}

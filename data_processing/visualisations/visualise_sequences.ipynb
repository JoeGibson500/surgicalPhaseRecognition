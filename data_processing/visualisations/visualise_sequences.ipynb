{
 "cells": [
  {
   "cell_type": "code",
   "execution_count": 1,
   "metadata": {},
   "outputs": [],
   "source": [
    "import numpy as np"
   ]
  },
  {
   "cell_type": "code",
   "execution_count": 5,
   "metadata": {},
   "outputs": [],
   "source": [
    "# Load the file\n",
    "file_path = \"../../data/sequences/phase_sequences.npy\"\n",
    "phase_sequences = np.load(file_path, allow_pickle=True).item()  # Load as dictionary"
   ]
  },
  {
   "cell_type": "code",
   "execution_count": 6,
   "metadata": {},
   "outputs": [
    {
     "name": "stdout",
     "output_type": "stream",
     "text": [
      "Total Phases: 12\n",
      "Sample Keys (Phases): ['1 arm placing', '2 arms placing', 'placing rings', 'placing rings 2 arms', 'pull off']\n"
     ]
    }
   ],
   "source": [
    "print(f\"Total Phases: {len(phase_sequences.keys())}\")  # How many unique phases?\n",
    "print(\"Sample Keys (Phases):\", list(phase_sequences.keys())[:5])  # Print first 5 phase names"
   ]
  },
  {
   "cell_type": "code",
   "execution_count": 8,
   "metadata": {},
   "outputs": [
    {
     "name": "stdout",
     "output_type": "stream",
     "text": [
      "Phase '1 arm placing' contains 626 sequences.\n",
      "Example sequence: ['0002_21/frames 2170', '0002_21/frames 2175', '0002_21/frames 2180', '0002_21/frames 2185']\n"
     ]
    }
   ],
   "source": [
    "first_phase = list(phase_sequences.keys())[0]\n",
    "print(f\"Phase '{first_phase}' contains {len(phase_sequences[first_phase])} sequences.\")\n",
    "print(\"Example sequence 1:\", phase_sequences[first_phase][0])  # Show one example sequence\n",
    "print(\"Example sequence 2:\", phase_sequences[first_phase][1])  # Show one example sequence\n",
    "print(\"Example sequence 3:\", phase_sequences[first_phase][2])  # Show one example sequence\n",
    "print(\"Example sequence 4:\", phase_sequences[first_phase][2])  # Show one example sequence\n"
   ]
  }
 ],
 "metadata": {
  "language_info": {
   "name": "python"
  }
 },
 "nbformat": 4,
 "nbformat_minor": 2
}

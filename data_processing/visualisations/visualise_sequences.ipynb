{
 "cells": [
  {
   "cell_type": "code",
   "execution_count": 2,
   "metadata": {},
   "outputs": [],
   "source": [
    "import numpy as np"
   ]
  },
  {
   "cell_type": "code",
   "execution_count": 7,
   "metadata": {},
   "outputs": [],
   "source": [
    "feature = np.load(\"../../data/sequences/0002_21/sequence_0.npy\")\n",
    "labels = np.load(\"../../data/labels/0002_21/sequence_0.npy\")"
   ]
  },
  {
   "cell_type": "code",
   "execution_count": 8,
   "metadata": {},
   "outputs": [
    {
     "name": "stdout",
     "output_type": "stream",
     "text": [
      "Feature shape : (16, 2048)\n",
      "labels shape:  (16, 1)\n"
     ]
    }
   ],
   "source": [
    "print(\"Feature shape :\", feature.shape)\n",
    "print(\"labels shape: \", labels.shape)"
   ]
  },
  {
   "cell_type": "code",
   "execution_count": 18,
   "metadata": {},
   "outputs": [
    {
     "name": "stdout",
     "output_type": "stream",
     "text": [
      "Sequence 500:\n",
      "Labels: [10 10 10 10 10 10 10 10 10 10 10 10 10 10 10 10]\n",
      "\n",
      "Sequence 505:\n",
      "Labels: [10 10 10 10 10 10 10 10 10 10 10 10 10 10 10 10]\n",
      "\n",
      "Sequence 510:\n",
      "Labels: [10 10 10 10 10 10 10 10 10 10 10 10 10 10 10 10]\n",
      "\n",
      "Sequence 515:\n",
      "Labels: [10 10 10 10 10 10 10 10 10 10 10 10  0  0  0  0]\n",
      "\n",
      "Sequence 520:\n",
      "Labels: [10 10 10 10 10 10 10  0  0  0  0  0  0  0  0  0]\n",
      "\n",
      "Sequence 525:\n",
      "Labels: [10 10  0  0  0  0  0  0  0  0  0  0  0  0  0  0]\n",
      "\n",
      "Sequence 530:\n",
      "Labels: [0 0 0 0 0 0 0 0 0 0 0 0 0 0 0 0]\n",
      "\n",
      "Sequence 535:\n",
      "Labels: [0 0 0 0 0 0 0 0 0 0 0 0 0 0 0 0]\n",
      "\n",
      "Sequence 540:\n",
      "Labels: [0 0 0 0 0 0 0 0 0 0 0 0 0 0 0 0]\n",
      "\n"
     ]
    }
   ],
   "source": [
    "for i in range(500, 545, 5):  # Checking every 5th sequence\n",
    "    features = np.load(f\"../../data/sequences/0002_21/sequence_{i}.npy\")\n",
    "    labels = np.load(f\"../../data/labels/0002_21/sequence_{i}.npy\")\n",
    "\n",
    "    print(f\"Sequence {i}:\")\n",
    "    print(\"Labels:\", labels.flatten())  # Should match expected phases\n",
    "    print()\n"
   ]
  }
 ],
 "metadata": {
  "kernelspec": {
   "display_name": "usr",
   "language": "python",
   "name": "python3"
  },
  "language_info": {
   "codemirror_mode": {
    "name": "ipython",
    "version": 3
   },
   "file_extension": ".py",
   "mimetype": "text/x-python",
   "name": "python",
   "nbconvert_exporter": "python",
   "pygments_lexer": "ipython3",
   "version": "3.9.21"
  }
 },
 "nbformat": 4,
 "nbformat_minor": 2
}

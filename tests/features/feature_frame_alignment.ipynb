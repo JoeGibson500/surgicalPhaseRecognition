{
 "cells": [
  {
   "cell_type": "code",
   "execution_count": 27,
   "metadata": {},
   "outputs": [],
   "source": [
    "import numpy as np \n",
    "import pandas as pd "
   ]
  },
  {
   "cell_type": "code",
   "execution_count": 26,
   "metadata": {},
   "outputs": [],
   "source": [
    "# Load npy files\n",
    "features = np.load(\"../../data/features/cnn_training_features.npy\")\n",
    "labels = np.load(\"../../data/features/cnn_training_labels.npy\")\n",
    "frame_names_npy = np.load(\"../../data/features/cnn_training_frame_names.npy\")"
   ]
  },
  {
   "cell_type": "code",
   "execution_count": 28,
   "metadata": {},
   "outputs": [],
   "source": [
    "train_split = pd.read_csv(\"../../data/splits/train_split.csv\")"
   ]
  },
  {
   "cell_type": "code",
   "execution_count": 29,
   "metadata": {},
   "outputs": [],
   "source": [
    "frame_names_csv = train_split['file_path'].values"
   ]
  },
  {
   "cell_type": "code",
   "execution_count": 30,
   "metadata": {},
   "outputs": [],
   "source": [
    "num_features = features.shape[0]\n",
    "num_labels = labels.shape[0]\n",
    "num_frames_npy = len(frame_names_npy)\n",
    "num_frames_csv = len(frame_names_csv)"
   ]
  },
  {
   "cell_type": "code",
   "execution_count": 31,
   "metadata": {},
   "outputs": [
    {
     "name": "stdout",
     "output_type": "stream",
     "text": [
      "Features count: 44820, Labels count: 44820\n",
      "Frame names (NPY): 44820, Frame names (CSV): 44820\n"
     ]
    }
   ],
   "source": [
    "print(f\"Features count: {num_features}, Labels count: {num_labels}\")\n",
    "print(f\"Frame names (NPY): {num_frames_npy}, Frame names (CSV): {num_frames_csv}\")"
   ]
  },
  {
   "cell_type": "code",
   "execution_count": 32,
   "metadata": {},
   "outputs": [],
   "source": [
    "\n",
    "# Check if number of frames match across features \n",
    "if not (num_features == num_labels == num_frames_npy == num_frames_csv):\n",
    "    print(\"Mismatch detected! Feature count, label count, and frame count are not equal.\")\n"
   ]
  },
  {
   "cell_type": "code",
   "execution_count": 33,
   "metadata": {},
   "outputs": [
    {
     "name": "stdout",
     "output_type": "stream",
     "text": [
      "Frame names are correctly aligned!\n"
     ]
    }
   ],
   "source": [
    "# Verify that frame names match in order\n",
    "if not np.array_equal(frame_names_npy, frame_names_csv):\n",
    "    print(\"Frame names do not match exactly!\")\n",
    "    \n",
    "    # Find mismatches\n",
    "    npy_set = set(frame_names_npy)\n",
    "    csv_set = set(frame_names_csv)\n",
    "    \n",
    "    missing_in_npy = csv_set - npy_set  # Frames in CSV but not in NPY\n",
    "    missing_in_csv = npy_set - csv_set  # Frames in NPY but not in CSV\n",
    "    \n",
    "    if missing_in_npy:\n",
    "        print(f\"Frames in CSV but missing in NPY: {list(missing_in_npy)[:5]} ... ({len(missing_in_npy)} total)\")\n",
    "    \n",
    "    if missing_in_csv:\n",
    "        print(f\"Frames in NPY but missing in CSV: {list(missing_in_csv)[:5]} ... ({len(missing_in_csv)} total)\")\n",
    "\n",
    "    # Check if order is mismatched\n",
    "    if sorted(frame_names_npy.tolist()) == sorted(frame_names_csv.tolist()):\n",
    "        print(\"The frames contain the same elements but are misordered.\")\n",
    "    else:\n",
    "        print(\"Mismatch detected in both order and content.\")\n",
    "\n",
    "else:\n",
    "    print(\"Frame names are correctly aligned!\")"
   ]
  }
 ],
 "metadata": {
  "kernelspec": {
   "display_name": "usr",
   "language": "python",
   "name": "python3"
  },
  "language_info": {
   "name": "python",
   "version": "3.9.21"
  }
 },
 "nbformat": 4,
 "nbformat_minor": 2
}

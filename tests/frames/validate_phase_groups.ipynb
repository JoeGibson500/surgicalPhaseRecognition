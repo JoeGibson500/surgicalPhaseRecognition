{
 "cells": [
  {
   "cell_type": "code",
   "execution_count": 5,
   "metadata": {},
   "outputs": [],
   "source": [
    "import pandas as pd\n",
    "import json\n",
    "\n",
    "# Load train_split.csv\n",
    "csv_file = \"../../data/splits/train_split.csv\"\n",
    "df = pd.read_csv(csv_file)\n",
    "\n",
    "# Load train_phases.json\n",
    "json_file = \"../../data/splits/train_phases.json\"\n",
    "with open(json_file, \"r\") as f:\n",
    "    phase_data = json.load(f)\n"
   ]
  },
  {
   "cell_type": "code",
   "execution_count": null,
   "metadata": {},
   "outputs": [],
   "source": [
    "# Convert train_split.csv into a dictionary for fast lookup\n",
    "csv_dict = {}\n",
    "for _, row in df.iterrows():\n",
    "    key = f\"{row['video_id']}/frames {row['frame_number']}\"\n",
    "    csv_dict[key] = row['phase']\n"
   ]
  },
  {
   "cell_type": "code",
   "execution_count": null,
   "metadata": {},
   "outputs": [],
   "source": [
    "# Track misalignments\n",
    "missing_frames = []\n",
    "wrong_phase_assignments = []"
   ]
  },
  {
   "cell_type": "code",
   "execution_count": null,
   "metadata": {},
   "outputs": [],
   "source": [
    "# Iterate through train_phases.json and check alignment\n",
    "for phase, video_ranges in phase_data.items():\n",
    "    for range_entry in video_ranges:\n",
    "        video_id, frame_range = range_entry.split(\"/frames \")\n",
    "        start_frame, end_frame = map(int, frame_range.split(\" - \"))\n",
    "\n",
    "        # Check every frame in the range\n",
    "        for frame_number in range(start_frame, end_frame + 5, 5):  # Step size of 5\n",
    "            key = f\"{video_id}/frames {frame_number}\"\n",
    "\n",
    "            if key not in csv_dict:\n",
    "                missing_frames.append(key)\n",
    "            elif csv_dict[key] != phase:\n",
    "                wrong_phase_assignments.append((key, csv_dict[key], phase))"
   ]
  },
  {
   "cell_type": "code",
   "execution_count": null,
   "metadata": {},
   "outputs": [],
   "source": [
    "# Print verification results\n",
    "if not missing_frames and not wrong_phase_assignments:\n",
    "    print(\"All frames and phases in train_phases.json align correctly with train_split.csv!\")\n",
    "else:\n",
    "    if missing_frames:\n",
    "        print(f\"{len(missing_frames)} frames in train_phases.json are missing from train_split.csv:\")\n",
    "        print(missing_frames[:10])  \n",
    "\n",
    "    if wrong_phase_assignments:\n",
    "        print(f\"⚠️ {len(wrong_phase_assignments)} frames have incorrect phase assignments:\")\n",
    "        for entry in wrong_phase_assignments[:10]: \n",
    "            print(f\"Expected {entry[2]}, but train_split.csv has {entry[1]} for {entry[0]}\")\n"
   ]
  }
 ],
 "metadata": {
  "language_info": {
   "name": "python"
  }
 },
 "nbformat": 4,
 "nbformat_minor": 2
}
